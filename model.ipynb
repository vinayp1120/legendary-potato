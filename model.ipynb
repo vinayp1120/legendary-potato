{
  "nbformat": 4,
  "nbformat_minor": 0,
  "metadata": {
    "colab": {
      "provenance": [],
      "mount_file_id": "1r1newD8lzX5l-hEfX44k6lLcmzOvFddj",
      "authorship_tag": "ABX9TyPqYsUfx/ua5iqjHcCOvFlU",
      "include_colab_link": true
    },
    "kernelspec": {
      "name": "python3",
      "display_name": "Python 3"
    },
    "language_info": {
      "name": "python"
    }
  },
  "cells": [
    {
      "cell_type": "markdown",
      "metadata": {
        "id": "view-in-github",
        "colab_type": "text"
      },
      "source": [
        "<a href=\"https://colab.research.google.com/github/vinayp1120/legendary-potato/blob/main/model.ipynb\" target=\"_parent\"><img src=\"https://colab.research.google.com/assets/colab-badge.svg\" alt=\"Open In Colab\"/></a>"
      ]
    },
    {
      "cell_type": "code",
      "execution_count": 1,
      "metadata": {
        "id": "QmehQ6vhDVVf"
      },
      "outputs": [],
      "source": [
        "import os\n",
        "import random\n",
        "import shutil\n",
        "\n",
        "def create_validation_folder(train_folder_path, val_split=0.1):\n",
        "    \"\"\"\n",
        "    This function creates a validation folder from the training folder\n",
        "    with a random split based on the provided validation split ratio.\n",
        "\n",
        "    Args:\n",
        "        train_folder_path: Path to the main training folder containing images and potentially label files.\n",
        "        val_split (optional): Percentage of training data to allocate for validation (default: 0.1).\n",
        "    \"\"\"\n",
        "\n",
        "    if not os.path.exists(train_folder_path):\n",
        "        raise ValueError(f\"Training folder '{train_folder_path}' does not exist.\")\n",
        "\n",
        "    train_files = []\n",
        "\n",
        "    # Collect all files from the training folder and its subdirectories\n",
        "    for root, _, files in os.walk(train_folder_path):\n",
        "        for file in files:\n",
        "            train_files.append(os.path.join(root, file))\n",
        "\n",
        "    random.shuffle(train_files)\n",
        "\n",
        "    num_files = len(train_files)\n",
        "    num_val_files = int(num_files * val_split)\n",
        "\n",
        "    val_folder_path = os.path.join(train_folder_path, \"validation\")\n",
        "    if not os.path.exists(val_folder_path):\n",
        "        os.makedirs(val_folder_path)\n",
        "\n",
        "    for i in range(num_val_files):\n",
        "        file_path = train_files[i]\n",
        "        file_name = os.path.basename(file_path)\n",
        "\n",
        "        # Move image file\n",
        "        try:\n",
        "            shutil.move(file_path, os.path.join(val_folder_path, file_name))\n",
        "        except FileNotFoundError:\n",
        "            print(f\"Warning: File '{file_name}' not found. Skipping.\")\n",
        "        except Exception as e:\n",
        "            print(f\"Error moving file '{file_name}': {e}\")\n",
        "\n",
        "# Example usage:\n",
        "train_folder_path = \"/content/drive/MyDrive/weapon-detection.v2i.yolov9/train\"  # Replace with the actual path\n",
        "create_validation_folder(train_folder_path)\n"
      ]
    },
    {
      "cell_type": "code",
      "source": [
        "import os\n",
        "import shutil\n",
        "\n",
        "def organize_validation_folder(validation_folder_path):\n",
        "    \"\"\"\n",
        "    Organizes the validation folder by separating images and label files into\n",
        "    their respective 'images' and 'labels' subfolders.\n",
        "\n",
        "    Args:\n",
        "        validation_folder_path: Path to the validation folder containing mixed images and label files.\n",
        "    \"\"\"\n",
        "    # Define paths for images and labels subfolders\n",
        "    images_folder_path = os.path.join(validation_folder_path, 'images')\n",
        "    labels_folder_path = os.path.join(validation_folder_path, 'labels')\n",
        "\n",
        "    # Create the images and labels folders if they don't exist\n",
        "    os.makedirs(images_folder_path, exist_ok=True)\n",
        "    os.makedirs(labels_folder_path, exist_ok=True)\n",
        "\n",
        "    # Get all files in the validation folder\n",
        "    for file_name in os.listdir(validation_folder_path):\n",
        "        file_path = os.path.join(validation_folder_path, file_name)\n",
        "\n",
        "        # Skip directories (images and labels folders)\n",
        "        if os.path.isdir(file_path):\n",
        "            continue\n",
        "\n",
        "        # Check the file extension and move accordingly\n",
        "        if file_name.endswith(('.jpg', '.jpeg', '.png', '.bmp', '.tif', '.tiff', '.gif')):\n",
        "            dest_path = os.path.join(images_folder_path, file_name)\n",
        "        elif file_name.endswith('.txt'):\n",
        "            dest_path = os.path.join(labels_folder_path, file_name)\n",
        "        else:\n",
        "            print(f\"Skipping unrecognized file type: {file_name}\")\n",
        "            continue\n",
        "\n",
        "        try:\n",
        "            shutil.move(file_path, dest_path)\n",
        "        except Exception as e:\n",
        "            print(f\"Error moving file '{file_name}': {e}\")\n",
        "\n",
        "# Example usage:\n",
        "validation_folder_path = \"/content/drive/MyDrive/weapon-detection.v2i.yolov9/train/validation\"  # Replace with the actual path\n",
        "organize_validation_folder(validation_folder_path)\n"
      ],
      "metadata": {
        "id": "X4ADH4rWDZDJ"
      },
      "execution_count": 2,
      "outputs": []
    },
    {
      "cell_type": "code",
      "source": [
        "from ultralytics import YOLO\n",
        "model= YOLO(\"yolov9c.pt\")\n",
        "#train on custom dataset\n",
        "results = model.train(data=\"/content/drive/MyDrive/weapon-detection.v2i.yolov9/data.yaml\", epochs=100, imgsz=640)\n"
      ],
      "metadata": {
        "id": "MhH61hR2FFoh"
      },
      "execution_count": null,
      "outputs": []
    }
  ]
}